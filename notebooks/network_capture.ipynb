{
 "cells": [
  {
   "cell_type": "code",
   "execution_count": null,
   "metadata": {},
   "outputs": [],
   "source": [
    "import os\n",
    "import sys\n",
    "import yaml\n",
    "\n",
    "sys.path.append(os.path.abspath(os.path.join('..', 'scripts')))\n",
    "sys.path.append(os.path.abspath(os.path.join('..', 'model/autoencoder/')))\n",
    "\n",
    "# Define the path to the config.yaml file\n",
    "config_path = os.path.abspath(os.path.join('..', 'configs', 'config.yaml'))\n",
    "\n",
    "# Load the YAML file\n",
    "with open(config_path, 'r') as file:\n",
    "    config = yaml.safe_load(file)\n",
    "\n"
   ]
  },
  {
   "cell_type": "code",
   "execution_count": null,
   "metadata": {},
   "outputs": [],
   "source": [
    "from capture_data import NetworkTrafficCollector\n",
    "\n",
    "raw_path = config['data']['raw_path']\n",
    "print(raw_path)\n",
    "collection = NetworkTrafficCollector(collection_point=\"Wi-Fi 2\", file_path=raw_path)\n",
    "#collection.start_capture(timeout=60)"
   ]
  },
  {
   "cell_type": "code",
   "execution_count": null,
   "metadata": {},
   "outputs": [],
   "source": [
    "from capture_data import NetworkTrafficCollector\n",
    "\n",
    "new_raw_path = config['data']['new_raw_path']\n",
    "print(new_raw_path)\n",
    "new_collection = NetworkTrafficCollector(collection_point=\"Wi-Fi 2\", file_path=new_raw_path)\n",
    "#new_collection.start_capture(timeout=60)"
   ]
  },
  {
   "cell_type": "code",
   "execution_count": null,
   "metadata": {},
   "outputs": [],
   "source": [
    "from preprocess_data import process_packets\n",
    "\n",
    "raw_path = config['data']['raw_path']\n",
    "processed_path = config['data']['processed_path']\n",
    "#process_packets(raw_path, processed_path)\n",
    "\n",
    "new_raw_path = config['data']['new_raw_path']\n",
    "new_processed_path = config['data']['new_processed_path']\n",
    "#process_packets(new_raw_path, new_processed_path)"
   ]
  },
  {
   "cell_type": "code",
   "execution_count": null,
   "metadata": {},
   "outputs": [],
   "source": [
    "from data_loader import load_data_from_h5, create_data_loaders, create_batches\n",
    "\n",
    "batch_size = config['training']['batch_size']\n",
    "data_tensor = load_data_from_h5(processed_path)\n",
    "batch_dataset = create_batches(data_tensor, batch_size)\n",
    "data_loader = create_data_loaders(batch_dataset)"
   ]
  },
  {
   "cell_type": "code",
   "execution_count": null,
   "metadata": {},
   "outputs": [],
   "source": [
    "from train_model import train_autoencoder\n",
    "\n",
    "train_autoencoder(data_loader, input_dim=6, epochs=1)"
   ]
  },
  {
   "cell_type": "code",
   "execution_count": null,
   "metadata": {},
   "outputs": [],
   "source": [
    "from train_model import test_autoencoder\n",
    "from tensorflow.keras.losses import MeanSquaredError\n",
    "\n",
    "test_autoencoder(data_loader)"
   ]
  },
  {
   "cell_type": "code",
   "execution_count": null,
   "metadata": {},
   "outputs": [],
   "source": [
    "import numpy as np\n",
    "\n",
    "def generate_fake_data(num_samples=100, anomaly=False):\n",
    "    normal_data = np.array([\n",
    "        [5.7344942e-06, 9.6054333e-01, 3.2170895e-01, 7.3307459e-03, 0.0000000e+00, 4.2857143e-01],\n",
    "        [5.7344942e-06, 9.6054333e-01, 3.2170895e-01, 7.3307459e-03, 0.0000000e+00, 0.0000000e+00],\n",
    "        [5.7344942e-06, 9.6054333e-01, 3.2170895e-01, 7.3307459e-03, 0.0000000e+00, 0.0000000e+00],\n",
    "        [5.7344942e-06, 9.6054333e-01, 3.2170895e-01, 7.3307459e-03, 0.0000000e+00, 0.0000000e+00]\n",
    "    ], dtype=np.float32)\n",
    "    \n",
    "    # If anomaly, introduce random noise\n",
    "    if anomaly:\n",
    "        noise = np.random.normal(0, 1, normal_data.shape)\n",
    "        data = normal_data + noise\n",
    "    else:\n",
    "        data = normal_data\n",
    "    \n",
    "    data = np.repeat(data[np.newaxis, ...], num_samples, axis=0)\n",
    "    data = data.reshape(num_samples * 4, 6)  # Reshape to (num_samples * 4, 6)\n",
    "    return data"
   ]
  },
  {
   "cell_type": "code",
   "execution_count": null,
   "metadata": {},
   "outputs": [],
   "source": [
    "\n",
    "normal_data = generate_fake_data(num_samples=100, anomaly=False)\n",
    "anomalous_data = generate_fake_data(num_samples=100, anomaly=True)"
   ]
  },
  {
   "cell_type": "code",
   "execution_count": null,
   "metadata": {},
   "outputs": [],
   "source": [
    "import tensorflow as tf\n",
    "\n",
    "def load_autoencoder_model(model_path):\n",
    "    return tf.keras.models.load_model(model_path, custom_objects={'MeanSquaredError': tf.keras.losses.MeanSquaredError})\n",
    "\n",
    "# Example usage:\n",
    "model_path = 'C:/Users/theob/Code/Refactored MLSec/notebooks/models/autoencoder/trained_models/autoencoder_model.keras'\n",
    "autoencoder = load_autoencoder_model(model_path)"
   ]
  },
  {
   "cell_type": "code",
   "execution_count": 12,
   "metadata": {},
   "outputs": [
    {
     "name": "stdout",
     "output_type": "stream",
     "text": [
      "13/13 ━━━━━━━━━━━━━━━━━━━━ 0s 14ms/ste ━━━━━━━━━━━━━━━━━━━━ 0s 833us/step\n",
      "Normal Data MSE: 3.973746232688427\n",
      "13/13 ━━━━━━━━━━━━━━━━━━━━ 0s 13ms/ste ━━━━━━━━━━━━━━━━━━━━ 0s 835us/step\n",
      "Anomalous Data MSE: 172.14430529922652\n"
     ]
    }
   ],
   "source": [
    "from detect_anomalies import make_predictions\n",
    "\n",
    "# Predict on normal data\n",
    "normal_mse = make_predictions(autoencoder, normal_data)\n",
    "print(f\"Normal Data MSE: {sum(normal_mse)}\")\n",
    "\n",
    "# Predict on anomalous data\n",
    "anomalous_mse = make_predictions(autoencoder, anomalous_data)\n",
    "print(f\"Anomalous Data MSE: {sum(anomalous_mse)}\")"
   ]
  }
 ],
 "metadata": {
  "kernelspec": {
   "display_name": "Python 3",
   "language": "python",
   "name": "python3"
  },
  "language_info": {
   "codemirror_mode": {
    "name": "ipython",
    "version": 3
   },
   "file_extension": ".py",
   "mimetype": "text/x-python",
   "name": "python",
   "nbconvert_exporter": "python",
   "pygments_lexer": "ipython3",
   "version": "3.12.2"
  }
 },
 "nbformat": 4,
 "nbformat_minor": 2
}
