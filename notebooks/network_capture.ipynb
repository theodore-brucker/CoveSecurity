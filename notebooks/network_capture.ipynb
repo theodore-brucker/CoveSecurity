{
 "cells": [
  {
   "cell_type": "code",
   "execution_count": 1,
   "metadata": {},
   "outputs": [],
   "source": [
    "import os\n",
    "import sys\n",
    "import yaml\n",
    "\n",
    "sys.path.append(os.path.abspath(os.path.join('..', 'scripts')))\n",
    "\n",
    "# Define the path to the config.yaml file\n",
    "config_path = os.path.abspath(os.path.join('..', 'configs', 'config.yaml'))\n",
    "\n",
    "# Load the YAML file\n",
    "with open(config_path, 'r') as file:\n",
    "    config = yaml.safe_load(file)\n",
    "\n"
   ]
  },
  {
   "cell_type": "code",
   "execution_count": 2,
   "metadata": {},
   "outputs": [
    {
     "name": "stderr",
     "output_type": "stream",
     "text": [
      "WARNING: Wireshark is installed, but cannot read manuf !\n"
     ]
    },
    {
     "name": "stdout",
     "output_type": "stream",
     "text": [
      "C:\\Users\\theob\\Code\\Refactored MLSec\\data\\raw\\data.txt\n"
     ]
    }
   ],
   "source": [
    "from capture_data import NetworkTrafficCollector\n",
    "\n",
    "raw_path = config['data']['raw_path']\n",
    "print(raw_path)\n",
    "collection = NetworkTrafficCollector(collection_point=\"Wi-Fi 2\", file_path=raw_path)\n",
    "#collection.start_capture(timeout=60)"
   ]
  },
  {
   "cell_type": "code",
   "execution_count": 3,
   "metadata": {},
   "outputs": [
    {
     "name": "stdout",
     "output_type": "stream",
     "text": [
      "C:\\Users\\theob\\Code\\Refactored MLSec\\data\\new_raw\\new_data.txt\n"
     ]
    }
   ],
   "source": [
    "from capture_data import NetworkTrafficCollector\n",
    "\n",
    "new_raw_path = config['data']['new_raw_path']\n",
    "print(new_raw_path)\n",
    "new_collection = NetworkTrafficCollector(collection_point=\"Wi-Fi 2\", file_path=new_raw_path)\n",
    "#new_collection.start_capture(timeout=60)"
   ]
  },
  {
   "cell_type": "code",
   "execution_count": 4,
   "metadata": {},
   "outputs": [
    {
     "name": "stderr",
     "output_type": "stream",
     "text": [
      "DEBUG:h5py._conv:Creating converter from 7 to 5\n",
      "DEBUG:h5py._conv:Creating converter from 5 to 7\n",
      "DEBUG:h5py._conv:Creating converter from 7 to 5\n",
      "DEBUG:h5py._conv:Creating converter from 5 to 7\n"
     ]
    }
   ],
   "source": [
    "from preprocess_data import process_packets\n",
    "\n",
    "raw_path = config['data']['raw_path']\n",
    "processed_path = config['data']['processed_path']\n",
    "#process_packets(raw_path, processed_path)\n",
    "\n",
    "new_raw_path = config['data']['new_raw_path']\n",
    "new_processed_path = config['data']['new_processed_path']\n",
    "#process_packets(new_raw_path, new_processed_path)"
   ]
  },
  {
   "cell_type": "code",
   "execution_count": null,
   "metadata": {},
   "outputs": [],
   "source": [
    "# Train the autoencoder\n",
    "from autoencoder import evaluate_autoencoder, store_autoencoder, train_autoencoder\n",
    "\n",
    "autoencoder = train_autoencoder(new_processed_path)"
   ]
  },
  {
   "cell_type": "code",
   "execution_count": null,
   "metadata": {},
   "outputs": [],
   "source": [
    "\n",
    "# Evaluate the autoencoder\n",
    "evaluate_autoencoder(autoencoder, new_processed_path)"
   ]
  },
  {
   "cell_type": "code",
   "execution_count": null,
   "metadata": {},
   "outputs": [],
   "source": [
    "\n",
    "# Store the trained autoencoder\n",
    "model_path = config['model']['trained_model_path']\n",
    "store_autoencoder(autoencoder, model_path)"
   ]
  },
  {
   "cell_type": "code",
   "execution_count": 27,
   "metadata": {},
   "outputs": [],
   "source": [
    "import re\n",
    "import pandas as pd\n",
    "from sklearn.preprocessing import MinMaxScaler\n",
    "import torch\n",
    "from autoencoder import Autoencoder\n",
    "from torch import nn\n",
    "\n",
    "def load_model(model_path, input_dim):\n",
    "    model = Autoencoder(input_dim)\n",
    "    model.load_state_dict(torch.load(model_path))\n",
    "    model.eval()\n",
    "    return model\n",
    "\n",
    "# Function to predict anomalies in new packets\n",
    "def predict_anomalies(model, new_packets, threshold=0.1):\n",
    "    new_packets = torch.tensor(new_packets, dtype=torch.float32)\n",
    "    outputs = model(new_packets)\n",
    "    loss = nn.functional.mse_loss(outputs, new_packets, reduction='none')\n",
    "    loss = loss.mean(dim=1)\n",
    "    anomalies = loss > threshold\n",
    "    print(loss)\n",
    "    return anomalies.numpy()\n",
    "\n",
    "def parse_packet(packet):\n",
    "        match = re.match(r'Ether / IP / (TCP|UDP) ([\\d.]+):(\\w+) > ([\\d.]+):(\\w+) (\\w+)', packet.strip())\n",
    "        if match:\n",
    "            protocol, src_ip, src_port, dst_ip, dst_port, flags = match.groups()\n",
    "            return src_ip, src_port, dst_ip, dst_port, protocol, flags\n",
    "        return None\n",
    "\n",
    "def preprocess_new_packets(file_path):\n",
    "    with open(file_path, 'r') as file:\n",
    "        raw_packets = file.readlines()\n",
    "\n",
    "    packets = [parse_packet(packet) for packet in raw_packets if parse_packet(packet)]\n",
    "    df = pd.DataFrame(packets, columns=['src_ip', 'src_port', 'dst_ip', 'dst_port', 'protocol', 'flags'])\n",
    "\n",
    "    def ip_to_numeric(ip):\n",
    "        return int(ip.replace('.', ''))\n",
    "\n",
    "    def port_to_numeric(port):\n",
    "        try:\n",
    "            if port.lower() == 'https':\n",
    "                return 443\n",
    "            return int(port, 16) if '0x' in port else int(port)\n",
    "        except:\n",
    "            return 1\n",
    "\n",
    "    df['src_ip'] = df['src_ip'].apply(ip_to_numeric)\n",
    "    df['dst_ip'] = df['dst_ip'].apply(ip_to_numeric)\n",
    "    df['protocol'] = df['protocol'].astype('category').cat.codes\n",
    "    df['flags'] = df['flags'].astype('category').cat.codes\n",
    "    df['src_port'] = df['src_port'].apply(port_to_numeric)\n",
    "    df['dst_port'] = df['dst_port'].apply(port_to_numeric)\n",
    "\n",
    "    scaler = MinMaxScaler()\n",
    "    scaled_packets = scaler.fit_transform(df)\n",
    "\n",
    "    return scaled_packets, len(packets)"
   ]
  },
  {
   "cell_type": "code",
   "execution_count": 28,
   "metadata": {},
   "outputs": [
    {
     "name": "stdout",
     "output_type": "stream",
     "text": [
      "tensor([0.0952, 0.0590, 0.0590, 0.0590, 0.0590, 0.0952, 0.0757, 0.0757, 0.0757,\n",
      "        0.0949, 0.0590, 0.0909, 0.0899, 0.0703, 0.0382, 0.0557, 0.0600, 0.0768,\n",
      "        0.1545, 0.1170, 0.1545, 0.1170, 0.1545, 0.1170, 0.1899, 0.0593, 0.0761,\n",
      "        0.0507, 0.0671, 0.1545, 0.1170, 0.1545, 0.1170, 0.1545, 0.1170, 0.1545,\n",
      "        0.1170, 0.1545, 0.1170, 0.1545, 0.1170, 0.0601, 0.0768, 0.0600, 0.0768,\n",
      "        0.0519, 0.0684, 0.1524, 0.1545, 0.0599, 0.0767, 0.1170, 0.0599, 0.0766,\n",
      "        0.0526, 0.0690, 0.0601, 0.0769, 0.0519, 0.0684, 0.0519, 0.0684, 0.0519,\n",
      "        0.0684, 0.0601, 0.0768, 0.0519, 0.0684, 0.1545, 0.0519, 0.1170, 0.0684,\n",
      "        0.0602, 0.0769, 0.0567, 0.0757, 0.1545, 0.1170, 0.0519, 0.0684, 0.0451,\n",
      "        0.0633, 0.0598, 0.0766, 0.0445, 0.0625, 0.0590, 0.0757, 0.1545, 0.1170,\n",
      "        0.0529, 0.0703, 0.0382, 0.0557, 0.0600, 0.0768, 0.1545, 0.1170, 0.0825,\n",
      "        0.0625, 0.0845, 0.1545, 0.0445, 0.1170], grad_fn=<MeanBackward1>)\n",
      "Packet: Ether / IP / TCP 10.3.32.21:59375 > 20.189.173.11:https PA / Raw, Status: Normal\n",
      "Packet: Ether / IP / TCP 10.3.32.21:59375 > 20.189.173.11:https A / Raw, Status: Normal\n",
      "Packet: Ether / IP / TCP 10.3.32.21:59375 > 20.189.173.11:https A / Raw, Status: Normal\n",
      "Packet: Ether / IP / TCP 10.3.32.21:59375 > 20.189.173.11:https A / Raw, Status: Normal\n",
      "Packet: Ether / IP / TCP 10.3.32.21:59375 > 20.189.173.11:https A / Raw, Status: Normal\n",
      "Packet: Ether / IP / TCP 10.3.32.21:59375 > 20.189.173.11:https PA / Raw, Status: Normal\n",
      "Packet: Ether / IP / TCP 20.189.173.11:https > 10.3.32.21:59375 A / Padding, Status: Normal\n",
      "Packet: Ether / IP / TCP 20.189.173.11:https > 10.3.32.21:59375 A / Padding, Status: Normal\n",
      "Packet: Ether / IP / TCP 20.189.173.11:https > 10.3.32.21:59375 A / Padding, Status: Normal\n",
      "Packet: Ether / IP / TCP 20.189.173.11:https > 10.3.32.21:59375 PA / Raw, Status: Normal\n",
      "Packet: Ether / IP / TCP 10.3.32.21:59375 > 20.189.173.11:https A, Status: Normal\n",
      "Packet: Ether / IP / TCP 52.111.226.0:https > 10.3.32.21:55327 PA / Raw, Status: Normal\n",
      "Packet: Ether / IP / TCP 10.3.32.21:55327 > 52.111.226.0:https PA / Raw, Status: Normal\n",
      "Packet: Ether / IP / TCP 52.111.226.0:https > 10.3.32.21:55327 A / Padding, Status: Normal\n",
      "Packet: Ether / IP / TCP 10.3.32.21:50557 > 20.127.250.238:https A / Raw, Status: Normal\n",
      "Packet: Ether / IP / TCP 20.127.250.238:https > 10.3.32.21:50557 A, Status: Normal\n",
      "Packet: Ether / IP / TCP 10.3.32.21:59334 > 3.162.3.79:https A / Raw, Status: Normal\n",
      "Packet: Ether / IP / TCP 3.162.3.79:https > 10.3.32.21:59334 A, Status: Normal\n",
      "Packet: Ether / IP / TCP 162.159.130.234:https > 10.3.32.21:57934 PA / Raw, Status: Anomalous\n",
      "Packet: Ether / IP / TCP 10.3.32.21:57934 > 162.159.130.234:https A, Status: Anomalous\n",
      "Packet: Ether / IP / TCP 162.159.130.234:https > 10.3.32.21:57934 PA / Raw, Status: Anomalous\n",
      "Packet: Ether / IP / TCP 10.3.32.21:57934 > 162.159.130.234:https A, Status: Anomalous\n",
      "Packet: Ether / IP / TCP 162.159.130.234:https > 10.3.32.21:57934 PA / Raw, Status: Anomalous\n",
      "Packet: Ether / IP / TCP 10.3.32.21:57934 > 162.159.130.234:https A, Status: Anomalous\n",
      "Packet: Ether / IP / TCP 204.79.197.239:https > 10.3.32.21:58972 RA / Padding, Status: Anomalous\n",
      "Packet: Ether / IP / TCP 10.3.32.21:59351 > 13.107.246.36:https A / Raw, Status: Normal\n",
      "Packet: Ether / IP / TCP 13.107.246.36:https > 10.3.32.21:59351 A, Status: Normal\n",
      "Packet: Ether / IP / TCP 10.3.32.21:59345 > 204.79.197.239:https A / Raw, Status: Normal\n",
      "Packet: Ether / IP / TCP 204.79.197.239:https > 10.3.32.21:59345 A, Status: Normal\n",
      "Packet: Ether / IP / TCP 162.159.130.234:https > 10.3.32.21:57934 PA / Raw, Status: Anomalous\n",
      "Packet: Ether / IP / TCP 10.3.32.21:57934 > 162.159.130.234:https A, Status: Anomalous\n",
      "Packet: Ether / IP / TCP 162.159.130.234:https > 10.3.32.21:57934 PA / Raw, Status: Anomalous\n",
      "Packet: Ether / IP / TCP 10.3.32.21:57934 > 162.159.130.234:https A, Status: Anomalous\n",
      "Packet: Ether / IP / TCP 162.159.130.234:https > 10.3.32.21:57934 PA / Raw, Status: Anomalous\n",
      "Packet: Ether / IP / TCP 10.3.32.21:57934 > 162.159.130.234:https A, Status: Anomalous\n",
      "Packet: Ether / IP / TCP 162.159.130.234:https > 10.3.32.21:57934 PA / Raw, Status: Anomalous\n",
      "Packet: Ether / IP / TCP 10.3.32.21:57934 > 162.159.130.234:https A, Status: Anomalous\n",
      "Packet: Ether / IP / TCP 162.159.130.234:https > 10.3.32.21:57934 PA / Raw, Status: Anomalous\n",
      "Packet: Ether / IP / TCP 10.3.32.21:57934 > 162.159.130.234:https A, Status: Anomalous\n",
      "Packet: Ether / IP / TCP 162.159.130.234:https > 10.3.32.21:57934 PA / Raw, Status: Anomalous\n",
      "Packet: Ether / IP / TCP 10.3.32.21:57934 > 162.159.130.234:https A, Status: Anomalous\n",
      "Packet: Ether / IP / TCP 10.3.32.21:59350 > 13.107.5.93:https A / Raw, Status: Normal\n",
      "Packet: Ether / IP / TCP 13.107.5.93:https > 10.3.32.21:59350 A, Status: Normal\n",
      "Packet: Ether / IP / TCP 10.3.32.21:59353 > 152.199.4.33:https A / Raw, Status: Normal\n",
      "Packet: Ether / IP / TCP 152.199.4.33:https > 10.3.32.21:59353 A, Status: Normal\n",
      "Packet: Ether / IP / TCP 10.3.32.21:58908 > 151.101.45.140:https A / Raw, Status: Normal\n",
      "Packet: Ether / IP / TCP 151.101.45.140:https > 10.3.32.21:58908 A, Status: Normal\n",
      "Packet: Ether / IP / TCP 10.3.32.21:57934 > 162.159.130.234:https PA / Raw, Status: Anomalous\n",
      "Packet: Ether / IP / TCP 162.159.130.234:https > 10.3.32.21:57934 PA / Raw, Status: Anomalous\n",
      "Packet: Ether / IP / TCP 10.3.32.21:59284 > 104.26.3.70:https A / Raw, Status: Normal\n",
      "Packet: Ether / IP / TCP 104.26.3.70:https > 10.3.32.21:59284 A, Status: Normal\n",
      "Packet: Ether / IP / TCP 10.3.32.21:57934 > 162.159.130.234:https A, Status: Anomalous\n",
      "Packet: Ether / IP / TCP 10.3.32.21:59300 > 20.94.153.70:https A / Raw, Status: Normal\n",
      "Packet: Ether / IP / TCP 20.94.153.70:https > 10.3.32.21:59300 A, Status: Normal\n",
      "Packet: Ether / IP / TCP 10.3.32.21:59285 > 151.101.45.140:https A / Raw, Status: Normal\n",
      "Packet: Ether / IP / TCP 151.101.45.140:https > 10.3.32.21:59285 A, Status: Normal\n",
      "Packet: Ether / IP / TCP 10.3.32.21:59424 > 152.199.4.33:https A / Raw, Status: Normal\n",
      "Packet: Ether / IP / TCP 152.199.4.33:https > 10.3.32.21:59424 A, Status: Normal\n",
      "Packet: Ether / IP / TCP 10.3.32.21:58923 > 151.101.45.140:https A / Raw, Status: Normal\n",
      "Packet: Ether / IP / TCP 151.101.45.140:https > 10.3.32.21:58923 A, Status: Normal\n",
      "Packet: Ether / IP / TCP 10.3.32.21:58910 > 151.101.45.140:https A / Raw, Status: Normal\n",
      "Packet: Ether / IP / TCP 151.101.45.140:https > 10.3.32.21:58910 A, Status: Normal\n",
      "Packet: Ether / IP / TCP 10.3.32.21:58922 > 151.101.45.140:https A / Raw, Status: Normal\n",
      "Packet: Ether / IP / TCP 151.101.45.140:https > 10.3.32.21:58922 A, Status: Normal\n",
      "Packet: Ether / IP / TCP 10.3.32.21:59387 > 13.107.42.18:https A / Raw, Status: Normal\n",
      "Packet: Ether / IP / TCP 13.107.42.18:https > 10.3.32.21:59387 A, Status: Normal\n",
      "Packet: Ether / IP / TCP 10.3.32.21:58921 > 151.101.45.140:https A / Raw, Status: Normal\n",
      "Packet: Ether / IP / TCP 151.101.45.140:https > 10.3.32.21:58921 A, Status: Normal\n",
      "Packet: Ether / IP / TCP 162.159.130.234:https > 10.3.32.21:57934 PA / Raw, Status: Anomalous\n",
      "Packet: Ether / IP / TCP 10.3.32.21:58906 > 151.101.45.140:https A / Raw, Status: Normal\n",
      "Packet: Ether / IP / TCP 10.3.32.21:57934 > 162.159.130.234:https A, Status: Anomalous\n",
      "Packet: Ether / IP / TCP 151.101.45.140:https > 10.3.32.21:58906 A, Status: Normal\n",
      "Packet: Ether / IP / TCP 10.3.32.21:59438 > 13.107.6.175:https A / Raw, Status: Normal\n",
      "Packet: Ether / IP / TCP 13.107.6.175:https > 10.3.32.21:59438 A, Status: Normal\n",
      "Packet: Ether / IP / TCP 10.3.32.21:59437 > 93.184.215.201:https A / Raw, Status: Normal\n",
      "Packet: Ether / IP / TCP 93.184.215.201:https > 10.3.32.21:59437 A, Status: Normal\n",
      "Packet: Ether / IP / TCP 162.159.130.234:https > 10.3.32.21:57934 PA / Raw, Status: Anomalous\n",
      "Packet: Ether / IP / TCP 10.3.32.21:57934 > 162.159.130.234:https A, Status: Anomalous\n",
      "Packet: Ether / IP / TCP 10.3.32.21:58925 > 151.101.45.140:https A / Raw, Status: Normal\n",
      "Packet: Ether / IP / TCP 151.101.45.140:https > 10.3.32.21:58925 A, Status: Normal\n",
      "Packet: Ether / IP / TCP 10.3.32.21:49409 > 20.7.2.167:https A / Raw, Status: Normal\n",
      "Packet: Ether / IP / TCP 20.7.2.167:https > 10.3.32.21:49409 A, Status: Normal\n",
      "Packet: Ether / IP / TCP 10.3.32.21:59322 > 3.210.245.28:https A / Raw, Status: Normal\n",
      "Packet: Ether / IP / TCP 3.210.245.28:https > 10.3.32.21:59322 A, Status: Normal\n",
      "Packet: Ether / IP / TCP 10.3.32.21:50394 > 35.186.224.39:https A / Raw, Status: Normal\n",
      "Packet: Ether / IP / TCP 35.186.224.39:https > 10.3.32.21:50394 A, Status: Normal\n",
      "Packet: Ether / IP / TCP 10.3.32.21:59375 > 20.189.173.11:https A / Raw, Status: Normal\n",
      "Packet: Ether / IP / TCP 20.189.173.11:https > 10.3.32.21:59375 A, Status: Normal\n",
      "Packet: Ether / IP / TCP 162.159.130.234:https > 10.3.32.21:57934 PA / Raw, Status: Anomalous\n",
      "Packet: Ether / IP / TCP 10.3.32.21:57934 > 162.159.130.234:https A, Status: Anomalous\n",
      "Packet: Ether / IP / TCP 10.3.32.21:55327 > 52.111.226.0:https A / Raw, Status: Normal\n",
      "Packet: Ether / IP / TCP 52.111.226.0:https > 10.3.32.21:55327 A, Status: Normal\n",
      "Packet: Ether / IP / TCP 10.3.32.21:50557 > 20.127.250.238:https A / Raw, Status: Normal\n",
      "Packet: Ether / IP / TCP 20.127.250.238:https > 10.3.32.21:50557 A, Status: Normal\n",
      "Packet: Ether / IP / TCP 10.3.32.21:59334 > 3.162.3.79:https A / Raw, Status: Normal\n",
      "Packet: Ether / IP / TCP 3.162.3.79:https > 10.3.32.21:59334 A, Status: Normal\n",
      "Packet: Ether / IP / TCP 162.159.130.234:https > 10.3.32.21:57934 PA / Raw, Status: Anomalous\n",
      "Packet: Ether / IP / TCP 10.3.32.21:57934 > 162.159.130.234:https A, Status: Anomalous\n",
      "Packet: Ether / IP / TCP 10.3.32.21:50394 > 35.186.224.39:https PA / Raw, Status: Normal\n",
      "Packet: Ether / IP / TCP 35.186.224.39:https > 10.3.32.21:50394 A / Padding, Status: Normal\n",
      "Packet: Ether / IP / TCP 35.186.224.39:https > 10.3.32.21:50394 PA / Raw, Status: Normal\n",
      "Packet: Ether / IP / TCP 162.159.130.234:https > 10.3.32.21:57934 PA / Raw, Status: Anomalous\n",
      "Packet: Ether / IP / TCP 10.3.32.21:50394 > 35.186.224.39:https A, Status: Normal\n",
      "Packet: Ether / IP / TCP 10.3.32.21:57934 > 162.159.130.234:https A, Status: Anomalous\n"
     ]
    }
   ],
   "source": [
    "trained_model_path = config['model']['trained_model_path']\n",
    "\n",
    "new_packets, num_valid_packets = preprocess_new_packets(new_raw_path)\n",
    "\n",
    "# Load the trained model\n",
    "input_dim = new_packets.shape[1]\n",
    "model = load_model(trained_model_path, input_dim)\n",
    "\n",
    "# Predict anomalies\n",
    "anomalies = predict_anomalies(model, new_packets)\n",
    "\n",
    "# Print results\n",
    "with open(new_raw_path, 'r') as file:\n",
    "    new_raw_packets = file.readlines()\n",
    "\n",
    "valid_packet_idx = 0\n",
    "for packet in new_raw_packets:\n",
    "    if parse_packet(packet):\n",
    "        is_anomalous = anomalies[valid_packet_idx]\n",
    "        status = \"Anomalous\" if is_anomalous else \"Normal\"\n",
    "        print(f\"Packet: {packet.strip()}, Status: {status}\")\n",
    "        valid_packet_idx += 1"
   ]
  }
 ],
 "metadata": {
  "kernelspec": {
   "display_name": "Python 3",
   "language": "python",
   "name": "python3"
  },
  "language_info": {
   "codemirror_mode": {
    "name": "ipython",
    "version": 3
   },
   "file_extension": ".py",
   "mimetype": "text/x-python",
   "name": "python",
   "nbconvert_exporter": "python",
   "pygments_lexer": "ipython3",
   "version": "3.11.1"
  }
 },
 "nbformat": 4,
 "nbformat_minor": 2
}
